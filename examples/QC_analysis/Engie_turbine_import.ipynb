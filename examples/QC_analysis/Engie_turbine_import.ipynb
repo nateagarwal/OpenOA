{
 "cells": [
  {
   "cell_type": "markdown",
   "metadata": {},
   "source": [
    "## Step 1: Load in data"
   ]
  },
  {
   "cell_type": "markdown",
   "metadata": {},
   "source": [
    "### Note: If you are running into a certificate error throughout any of this process, try again unplugged from the NREL network"
   ]
  },
  {
   "cell_type": "code",
   "execution_count": 11,
   "metadata": {},
   "outputs": [
    {
     "name": "stdout",
     "output_type": "stream",
     "text": [
      "The autoreload extension is already loaded. To reload it, use:\n",
      "  %reload_ext autoreload\n"
     ]
    }
   ],
   "source": [
    "%load_ext autoreload\n",
    "%autoreload 2"
   ]
  },
  {
   "cell_type": "code",
   "execution_count": 1,
   "metadata": {},
   "outputs": [],
   "source": [
    "from engie_QC import EngieQC\n",
    "from examples.turbine_analysis.engie_project import TurbineEngieOpenData #Note that this is found the turbine analysis example folder\n",
    "import pandas as pd\n",
    "import numpy as np"
   ]
  },
  {
   "cell_type": "markdown",
   "metadata": {},
   "source": [
    "## Step 2: Use TurbineEngieOpenData import to prepare for our full import"
   ]
  },
  {
   "cell_type": "code",
   "execution_count": 3,
   "metadata": {},
   "outputs": [],
   "source": [
    "R80711 = TurbineEngieOpenData(name = 'R80711', start_date = '01.01.2013 00:00', end_date = '12.31.2013 23:50')\n",
    "R80721 = TurbineEngieOpenData(name = 'R80721', start_date = '01.01.2013 00:00', end_date = '12.31.2013 23:50')\n",
    "R80736 = TurbineEngieOpenData(name = 'R80736', start_date = '01.01.2013 00:00', end_date = '12.31.2013 23:50')\n",
    "R80790 = TurbineEngieOpenData(name = 'R80790', start_date = '01.01.2013 00:00', end_date = '12.31.2013 23:50')\n",
    "turbs = [R80711, R80721, R80736, R80790]"
   ]
  },
  {
   "cell_type": "markdown",
   "metadata": {},
   "source": [
    "## Step 3: Import with EngieQC class"
   ]
  },
  {
   "cell_type": "code",
   "execution_count": 4,
   "metadata": {},
   "outputs": [],
   "source": [
    "# Here is a class definition to concat the dataframes from the individual turbines to create a full scada dataset\n",
    "# The name 'EngieQC' indicates that it will prepare pre-QCed data. This is different from the ProjectEngie import that handles the full project import\n",
    "turb_coll = EngieQC(name = 'Engie', start_date = \"01.01.2013 00:00\",end_date = \"12.31.2013 23:50\", turbs = turbs)"
   ]
  },
  {
   "cell_type": "code",
   "execution_count": 11,
   "metadata": {},
   "outputs": [],
   "source": [
    "turb_coll.prepare() # This can take some time"
   ]
  },
  {
   "cell_type": "code",
   "execution_count": 12,
   "metadata": {},
   "outputs": [
    {
     "data": {
      "text/html": [
       "<div>\n",
       "<style scoped>\n",
       "    .dataframe tbody tr th:only-of-type {\n",
       "        vertical-align: middle;\n",
       "    }\n",
       "\n",
       "    .dataframe tbody tr th {\n",
       "        vertical-align: top;\n",
       "    }\n",
       "\n",
       "    .dataframe thead th {\n",
       "        text-align: right;\n",
       "    }\n",
       "</style>\n",
       "<table border=\"1\" class=\"dataframe\">\n",
       "  <thead>\n",
       "    <tr style=\"text-align: right;\">\n",
       "      <th></th>\n",
       "      <th>time</th>\n",
       "      <th>wtur_W_avg</th>\n",
       "      <th>wmet_wDir_avg</th>\n",
       "      <th>wmet_wdspd_avg</th>\n",
       "      <th>ID</th>\n",
       "    </tr>\n",
       "    <tr>\n",
       "      <th>time</th>\n",
       "      <th></th>\n",
       "      <th></th>\n",
       "      <th></th>\n",
       "      <th></th>\n",
       "      <th></th>\n",
       "    </tr>\n",
       "  </thead>\n",
       "  <tbody>\n",
       "    <tr>\n",
       "      <th>2013-01-01 00:00:00</th>\n",
       "      <td>2013-01-01 00:00:00</td>\n",
       "      <td>1303.77</td>\n",
       "      <td>174.13000</td>\n",
       "      <td>9.479999</td>\n",
       "      <td>R80711</td>\n",
       "    </tr>\n",
       "    <tr>\n",
       "      <th>2013-01-01 00:10:00</th>\n",
       "      <td>2013-01-01 00:10:00</td>\n",
       "      <td>1276.15</td>\n",
       "      <td>173.53000</td>\n",
       "      <td>9.240000</td>\n",
       "      <td>R80711</td>\n",
       "    </tr>\n",
       "    <tr>\n",
       "      <th>2013-01-01 00:20:00</th>\n",
       "      <td>2013-01-01 00:20:00</td>\n",
       "      <td>1286.34</td>\n",
       "      <td>172.52000</td>\n",
       "      <td>9.190000</td>\n",
       "      <td>R80711</td>\n",
       "    </tr>\n",
       "    <tr>\n",
       "      <th>2013-01-01 00:30:00</th>\n",
       "      <td>2013-01-01 00:30:00</td>\n",
       "      <td>1081.10</td>\n",
       "      <td>170.12000</td>\n",
       "      <td>8.460000</td>\n",
       "      <td>R80711</td>\n",
       "    </tr>\n",
       "    <tr>\n",
       "      <th>2013-01-01 00:40:00</th>\n",
       "      <td>2013-01-01 00:40:00</td>\n",
       "      <td>1062.01</td>\n",
       "      <td>171.89999</td>\n",
       "      <td>8.490000</td>\n",
       "      <td>R80711</td>\n",
       "    </tr>\n",
       "  </tbody>\n",
       "</table>\n",
       "</div>"
      ],
      "text/plain": [
       "                                   time  wtur_W_avg  wmet_wDir_avg  \\\n",
       "time                                                                 \n",
       "2013-01-01 00:00:00 2013-01-01 00:00:00     1303.77      174.13000   \n",
       "2013-01-01 00:10:00 2013-01-01 00:10:00     1276.15      173.53000   \n",
       "2013-01-01 00:20:00 2013-01-01 00:20:00     1286.34      172.52000   \n",
       "2013-01-01 00:30:00 2013-01-01 00:30:00     1081.10      170.12000   \n",
       "2013-01-01 00:40:00 2013-01-01 00:40:00     1062.01      171.89999   \n",
       "\n",
       "                     wmet_wdspd_avg      ID  \n",
       "time                                         \n",
       "2013-01-01 00:00:00        9.479999  R80711  \n",
       "2013-01-01 00:10:00        9.240000  R80711  \n",
       "2013-01-01 00:20:00        9.190000  R80711  \n",
       "2013-01-01 00:30:00        8.460000  R80711  \n",
       "2013-01-01 00:40:00        8.490000  R80711  "
      ]
     },
     "execution_count": 12,
     "metadata": {},
     "output_type": "execute_result"
    }
   ],
   "source": [
    "turb_coll._scada.df.head()"
   ]
  },
  {
   "cell_type": "markdown",
   "metadata": {},
   "source": [
    "## Step 4: Create a csv file"
   ]
  },
  {
   "cell_type": "code",
   "execution_count": 15,
   "metadata": {},
   "outputs": [],
   "source": [
    "turb_coll._scada.df.to_csv('engie_scada.csv') # This is the csv file that we will use for our QC analysis"
   ]
  },
  {
   "cell_type": "code",
   "execution_count": null,
   "metadata": {},
   "outputs": [],
   "source": []
  }
 ],
 "metadata": {
  "kernelspec": {
   "display_name": "Python 3",
   "language": "python",
   "name": "python3"
  },
  "language_info": {
   "codemirror_mode": {
    "name": "ipython",
    "version": 3
   },
   "file_extension": ".py",
   "mimetype": "text/x-python",
   "name": "python",
   "nbconvert_exporter": "python",
   "pygments_lexer": "ipython3",
   "version": "3.7.3"
  }
 },
 "nbformat": 4,
 "nbformat_minor": 2
}
