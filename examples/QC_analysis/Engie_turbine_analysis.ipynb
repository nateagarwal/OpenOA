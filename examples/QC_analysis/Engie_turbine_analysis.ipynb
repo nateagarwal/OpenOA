{
 "cells": [
  {
   "cell_type": "code",
   "execution_count": 1,
   "metadata": {},
   "outputs": [],
   "source": [
    "%load_ext autoreload\n",
    "%autoreload 2"
   ]
  },
  {
   "cell_type": "markdown",
   "metadata": {},
   "source": [
    "## Step 1: Load in Data"
   ]
  },
  {
   "cell_type": "code",
   "execution_count": 2,
   "metadata": {},
   "outputs": [],
   "source": [
    "import numpy as np\n",
    "import pandas as pd\n",
    "import matplotlib.pyplot as plt\n",
    "import project_engie_scada\n",
    "from project_engie_scada import Project_Engie\n",
    "from operational_analysis.methods import turbine_long_term_gross_energy\n",
    "from operational_analysis.methods import electrical_losses"
   ]
  },
  {
   "cell_type": "code",
   "execution_count": 3,
   "metadata": {},
   "outputs": [],
   "source": [
    "engie_project = project_engie_scada.Project_Engie(path= '.')"
   ]
  },
  {
   "cell_type": "code",
   "execution_count": 4,
   "metadata": {},
   "outputs": [
    {
     "name": "stderr",
     "output_type": "stream",
     "text": [
      "INFO:project_engie_scada:Loading SCADA data\n",
      "INFO:operational_analysis.types.timeseries_table:Loading name:engie_scada\n",
      "INFO:project_engie_scada:SCADA data loaded\n",
      "INFO:project_engie_scada:Timestamp QC and conversion to UTC\n",
      "INFO:project_engie_scada:Correcting for out of range of power, wind speed, and wind direction variables\n",
      "INFO:project_engie_scada:Flagging unresponsive sensors\n",
      "INFO:project_engie_scada:Converting field names to IEC 61400-25 standard\n",
      "INFO:operational_analysis.types.timeseries_table:Loading name:engie_meter\n",
      "INFO:project_engie_scada:Loading Availability and Curtailment Data\n",
      "INFO:operational_analysis.types.timeseries_table:Loading name:engie_avail_curt\n",
      "INFO:operational_analysis.types.timeseries_table:Loading name:merra2_data\n",
      "INFO:operational_analysis.types.timeseries_table:Loading name:ncep2_data\n",
      "INFO:operational_analysis.types.timeseries_table:Loading name:erai_data\n"
     ]
    }
   ],
   "source": [
    "engie_project.prepare()"
   ]
  },
  {
   "cell_type": "markdown",
   "metadata": {},
   "source": [
    "## Step 2: Inspect Scada for any irregularities"
   ]
  },
  {
   "cell_type": "code",
   "execution_count": 5,
   "metadata": {},
   "outputs": [
    {
     "data": {
      "text/html": [
       "<div>\n",
       "<style scoped>\n",
       "    .dataframe tbody tr th:only-of-type {\n",
       "        vertical-align: middle;\n",
       "    }\n",
       "\n",
       "    .dataframe tbody tr th {\n",
       "        vertical-align: top;\n",
       "    }\n",
       "\n",
       "    .dataframe thead th {\n",
       "        text-align: right;\n",
       "    }\n",
       "</style>\n",
       "<table border=\"1\" class=\"dataframe\">\n",
       "  <thead>\n",
       "    <tr style=\"text-align: right;\">\n",
       "      <th></th>\n",
       "      <th>time</th>\n",
       "      <th>wtur_W_avg</th>\n",
       "      <th>wmet_HorWd_Dir</th>\n",
       "      <th>wmet_wdspd_avg</th>\n",
       "      <th>id</th>\n",
       "      <th>energy_kwh</th>\n",
       "    </tr>\n",
       "    <tr>\n",
       "      <th>time</th>\n",
       "      <th></th>\n",
       "      <th></th>\n",
       "      <th></th>\n",
       "      <th></th>\n",
       "      <th></th>\n",
       "      <th></th>\n",
       "    </tr>\n",
       "  </thead>\n",
       "  <tbody>\n",
       "    <tr>\n",
       "      <th>2013-01-01 00:00:00</th>\n",
       "      <td>2013-01-01 00:00:00</td>\n",
       "      <td>1303770.0</td>\n",
       "      <td>174.13000</td>\n",
       "      <td>9.479999</td>\n",
       "      <td>R80711</td>\n",
       "      <td>217.295000</td>\n",
       "    </tr>\n",
       "    <tr>\n",
       "      <th>2013-01-01 00:10:00</th>\n",
       "      <td>2013-01-01 00:10:00</td>\n",
       "      <td>1276150.0</td>\n",
       "      <td>173.53000</td>\n",
       "      <td>9.240000</td>\n",
       "      <td>R80711</td>\n",
       "      <td>212.691667</td>\n",
       "    </tr>\n",
       "    <tr>\n",
       "      <th>2013-01-01 00:20:00</th>\n",
       "      <td>2013-01-01 00:20:00</td>\n",
       "      <td>1286340.0</td>\n",
       "      <td>172.52000</td>\n",
       "      <td>9.190000</td>\n",
       "      <td>R80711</td>\n",
       "      <td>214.390000</td>\n",
       "    </tr>\n",
       "    <tr>\n",
       "      <th>2013-01-01 00:30:00</th>\n",
       "      <td>2013-01-01 00:30:00</td>\n",
       "      <td>1081100.0</td>\n",
       "      <td>170.12000</td>\n",
       "      <td>8.460000</td>\n",
       "      <td>R80711</td>\n",
       "      <td>180.183333</td>\n",
       "    </tr>\n",
       "    <tr>\n",
       "      <th>2013-01-01 00:40:00</th>\n",
       "      <td>2013-01-01 00:40:00</td>\n",
       "      <td>1062010.0</td>\n",
       "      <td>171.89999</td>\n",
       "      <td>8.490000</td>\n",
       "      <td>R80711</td>\n",
       "      <td>177.001667</td>\n",
       "    </tr>\n",
       "  </tbody>\n",
       "</table>\n",
       "</div>"
      ],
      "text/plain": [
       "                                   time  wtur_W_avg  wmet_HorWd_Dir  \\\n",
       "time                                                                  \n",
       "2013-01-01 00:00:00 2013-01-01 00:00:00   1303770.0       174.13000   \n",
       "2013-01-01 00:10:00 2013-01-01 00:10:00   1276150.0       173.53000   \n",
       "2013-01-01 00:20:00 2013-01-01 00:20:00   1286340.0       172.52000   \n",
       "2013-01-01 00:30:00 2013-01-01 00:30:00   1081100.0       170.12000   \n",
       "2013-01-01 00:40:00 2013-01-01 00:40:00   1062010.0       171.89999   \n",
       "\n",
       "                     wmet_wdspd_avg      id  energy_kwh  \n",
       "time                                                     \n",
       "2013-01-01 00:00:00        9.479999  R80711  217.295000  \n",
       "2013-01-01 00:10:00        9.240000  R80711  212.691667  \n",
       "2013-01-01 00:20:00        9.190000  R80711  214.390000  \n",
       "2013-01-01 00:30:00        8.460000  R80711  180.183333  \n",
       "2013-01-01 00:40:00        8.490000  R80711  177.001667  "
      ]
     },
     "execution_count": 5,
     "metadata": {},
     "output_type": "execute_result"
    }
   ],
   "source": [
    "scada_df = engie_project._scada.df\n",
    "scada_df.head()"
   ]
  },
  {
   "cell_type": "code",
   "execution_count": 6,
   "metadata": {},
   "outputs": [
    {
     "data": {
      "text/plain": [
       "time              datetime64[ns]\n",
       "wtur_W_avg               float64\n",
       "wmet_HorWd_Dir           float64\n",
       "wmet_wdspd_avg           float64\n",
       "id                        object\n",
       "energy_kwh               float64\n",
       "dtype: object"
      ]
     },
     "execution_count": 6,
     "metadata": {},
     "output_type": "execute_result"
    }
   ],
   "source": [
    "scada_df.dtypes"
   ]
  },
  {
   "cell_type": "code",
   "execution_count": 7,
   "metadata": {},
   "outputs": [
    {
     "data": {
      "text/plain": [
       "time              2013-12-31 00:00:00\n",
       "wtur_W_avg                2.05138e+06\n",
       "wmet_HorWd_Dir                    360\n",
       "wmet_wdspd_avg                  20.01\n",
       "id                             R80790\n",
       "energy_kwh                    341.897\n",
       "dtype: object"
      ]
     },
     "execution_count": 7,
     "metadata": {},
     "output_type": "execute_result"
    }
   ],
   "source": [
    "scada_df.max()"
   ]
  },
  {
   "cell_type": "markdown",
   "metadata": {},
   "source": [
    "## Step 3: Calculate Turbine Gross Energy"
   ]
  },
  {
   "cell_type": "code",
   "execution_count": 8,
   "metadata": {},
   "outputs": [
    {
     "name": "stderr",
     "output_type": "stream",
     "text": [
      "INFO:operational_analysis.methods.turbine_long_term_gross_energy:Initializing TurbineLongTermGrossEnergy Object\n",
      "INFO:operational_analysis.methods.turbine_long_term_gross_energy:Processing SCADA data into dictionaries by turbine (this can take a while)\n"
     ]
    }
   ],
   "source": [
    "a = turbine_long_term_gross_energy.TurbineLongTermGrossEnergy(engie_project)\n",
    "reanal_sub= ['ncep2', 'merra2', 'erai']"
   ]
  },
  {
   "cell_type": "code",
   "execution_count": 9,
   "metadata": {},
   "outputs": [
    {
     "name": "stderr",
     "output_type": "stream",
     "text": [
      "INFO:operational_analysis.methods.turbine_long_term_gross_energy:Filtering turbine data\n",
      "INFO:operational_analysis.methods.turbine_long_term_gross_energy:Processing reanalysis data to daily averages\n",
      "INFO:operational_analysis.methods.turbine_long_term_gross_energy:Processing scada data to daily sums\n",
      "4it [00:00, 24.91it/s]\n",
      "INFO:operational_analysis.methods.turbine_long_term_gross_energy:Setting up daily data for model fitting\n",
      "INFO:operational_analysis.methods.turbine_long_term_gross_energy:Fitting model data\n",
      "INFO:operational_analysis.methods.turbine_long_term_gross_energy:Applying fitting results to calculate long-term gross energy\n",
      "INFO:operational_analysis.methods.turbine_long_term_gross_energy:Run completed\n"
     ]
    }
   ],
   "source": [
    "a.run(reanal_sub)"
   ]
  },
  {
   "cell_type": "code",
   "execution_count": 10,
   "metadata": {},
   "outputs": [
    {
     "data": {
      "text/html": [
       "<div>\n",
       "<style scoped>\n",
       "    .dataframe tbody tr th:only-of-type {\n",
       "        vertical-align: middle;\n",
       "    }\n",
       "\n",
       "    .dataframe tbody tr th {\n",
       "        vertical-align: top;\n",
       "    }\n",
       "\n",
       "    .dataframe thead th {\n",
       "        text-align: right;\n",
       "    }\n",
       "</style>\n",
       "<table border=\"1\" class=\"dataframe\">\n",
       "  <thead>\n",
       "    <tr style=\"text-align: right;\">\n",
       "      <th></th>\n",
       "      <th>R80711</th>\n",
       "      <th>R80721</th>\n",
       "      <th>R80736</th>\n",
       "      <th>R80790</th>\n",
       "    </tr>\n",
       "  </thead>\n",
       "  <tbody>\n",
       "    <tr>\n",
       "      <th>ncep2</th>\n",
       "      <td>3.40849e+06</td>\n",
       "      <td>2.7505e+06</td>\n",
       "      <td>2.91039e+06</td>\n",
       "      <td>3.01819e+06</td>\n",
       "    </tr>\n",
       "    <tr>\n",
       "      <th>merra2</th>\n",
       "      <td>3.3851e+06</td>\n",
       "      <td>2.74009e+06</td>\n",
       "      <td>2.90477e+06</td>\n",
       "      <td>2.99865e+06</td>\n",
       "    </tr>\n",
       "    <tr>\n",
       "      <th>erai</th>\n",
       "      <td>3.54745e+06</td>\n",
       "      <td>2.86515e+06</td>\n",
       "      <td>3.04267e+06</td>\n",
       "      <td>3.15675e+06</td>\n",
       "    </tr>\n",
       "  </tbody>\n",
       "</table>\n",
       "</div>"
      ],
      "text/plain": [
       "             R80711       R80721       R80736       R80790\n",
       "ncep2   3.40849e+06   2.7505e+06  2.91039e+06  3.01819e+06\n",
       "merra2   3.3851e+06  2.74009e+06  2.90477e+06  2.99865e+06\n",
       "erai    3.54745e+06  2.86515e+06  3.04267e+06  3.15675e+06"
      ]
     },
     "execution_count": 10,
     "metadata": {},
     "output_type": "execute_result"
    }
   ],
   "source": [
    "a._summary_results"
   ]
  },
  {
   "cell_type": "code",
   "execution_count": 11,
   "metadata": {},
   "outputs": [
    {
     "data": {
      "text/plain": [
       "12242734.565417478"
      ]
     },
     "execution_count": 11,
     "metadata": {},
     "output_type": "execute_result"
    }
   ],
   "source": [
    "a._plant_gross"
   ]
  },
  {
   "cell_type": "markdown",
   "metadata": {},
   "source": [
    "## Step 4: Caclulate Electrical Losses"
   ]
  },
  {
   "cell_type": "code",
   "execution_count": 12,
   "metadata": {},
   "outputs": [
    {
     "name": "stderr",
     "output_type": "stream",
     "text": [
      "INFO:operational_analysis.methods.electrical_losses:Initializing Electrical Losses Object\n"
     ]
    }
   ],
   "source": [
    "e = electrical_losses.ElectricalLosses(engie_project)"
   ]
  },
  {
   "cell_type": "code",
   "execution_count": 13,
   "metadata": {},
   "outputs": [
    {
     "name": "stderr",
     "output_type": "stream",
     "text": [
      "INFO:operational_analysis.methods.electrical_losses:Processing SCADA data\n",
      "INFO:operational_analysis.methods.electrical_losses:Processing meter data\n",
      "INFO:operational_analysis.methods.electrical_losses:Calculating electrical losses\n"
     ]
    }
   ],
   "source": [
    "e.run()"
   ]
  },
  {
   "cell_type": "code",
   "execution_count": 14,
   "metadata": {},
   "outputs": [
    {
     "data": {
      "text/plain": [
       "0.01976013563371193"
      ]
     },
     "execution_count": 14,
     "metadata": {},
     "output_type": "execute_result"
    }
   ],
   "source": [
    "e._electrical_losses"
   ]
  }
 ],
 "metadata": {
  "kernelspec": {
   "display_name": "Python 3",
   "language": "python",
   "name": "python3"
  },
  "language_info": {
   "codemirror_mode": {
    "name": "ipython",
    "version": 3
   },
   "file_extension": ".py",
   "mimetype": "text/x-python",
   "name": "python",
   "nbconvert_exporter": "python",
   "pygments_lexer": "ipython3",
   "version": "3.7.3"
  }
 },
 "nbformat": 4,
 "nbformat_minor": 2
}
