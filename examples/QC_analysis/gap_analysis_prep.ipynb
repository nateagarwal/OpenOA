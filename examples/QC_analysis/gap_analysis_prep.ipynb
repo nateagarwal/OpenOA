{
 "cells": [
  {
   "cell_type": "code",
   "execution_count": 1,
   "metadata": {},
   "outputs": [],
   "source": [
    "%load_ext autoreload\n",
    "%autoreload 2"
   ]
  },
  {
   "cell_type": "code",
   "execution_count": 2,
   "metadata": {},
   "outputs": [],
   "source": [
    "import pandas as pd\n",
    "import numpy as np"
   ]
  },
  {
   "cell_type": "code",
   "execution_count": 5,
   "metadata": {},
   "outputs": [],
   "source": [
    "eya_df = pd.DataFrame(columns = {'Net_10_Yr', 'Gross_10_Yr', 'participant', 'project_name', 'Loss_Availability', 'Loss_Electrical', 'Loss_Turbine', 'Loss_Wake_Effect'})"
   ]
  },
  {
   "cell_type": "code",
   "execution_count": 6,
   "metadata": {},
   "outputs": [
    {
     "data": {
      "text/html": [
       "<div>\n",
       "<style scoped>\n",
       "    .dataframe tbody tr th:only-of-type {\n",
       "        vertical-align: middle;\n",
       "    }\n",
       "\n",
       "    .dataframe tbody tr th {\n",
       "        vertical-align: top;\n",
       "    }\n",
       "\n",
       "    .dataframe thead th {\n",
       "        text-align: right;\n",
       "    }\n",
       "</style>\n",
       "<table border=\"1\" class=\"dataframe\">\n",
       "  <thead>\n",
       "    <tr style=\"text-align: right;\">\n",
       "      <th></th>\n",
       "      <th>Gross_10_Yr</th>\n",
       "      <th>project_name</th>\n",
       "      <th>participant</th>\n",
       "      <th>Loss_Turbine</th>\n",
       "      <th>Net_10_Yr</th>\n",
       "      <th>Loss_Availability</th>\n",
       "      <th>Loss_Electrical</th>\n",
       "      <th>Loss_Wake_Effect</th>\n",
       "    </tr>\n",
       "  </thead>\n",
       "  <tbody>\n",
       "  </tbody>\n",
       "</table>\n",
       "</div>"
      ],
      "text/plain": [
       "Empty DataFrame\n",
       "Columns: [Gross_10_Yr, project_name, participant, Loss_Turbine, Net_10_Yr, Loss_Availability, Loss_Electrical, Loss_Wake_Effect]\n",
       "Index: []"
      ]
     },
     "execution_count": 6,
     "metadata": {},
     "output_type": "execute_result"
    }
   ],
   "source": [
    "eya_df['Net_10_Yr'] = [, , ]\n",
    "eya_df['Gross_10_Yr'] = [10000000,7000000, 15000000]\n",
    "eya_df['participant'] = ['Participant A', 'Participant B', 'Participant C']\n",
    "eya_df['project_name'] = ['Engie', 'Engie', 'Engie']\n",
    "eya_df['Loss_Availability'] = [, , ] # roughly 5% AEP\n",
    "eya_df['Loss_Electrical'] = [, ,] # roughly 2-3% of AEP\n",
    "eya_df['Loss_Turbine'] = [, ,] # Not well-defined\n",
    "eya_df['Loss_Wake_Effect'] = [, ,] # Not well-defined"
   ]
  },
  {
   "cell_type": "code",
   "execution_count": null,
   "metadata": {},
   "outputs": [],
   "source": [
    "# Check - is gross energy minus all losses equal to net? i.e. is turb performance in there too?\n",
    "eya_df['gross_check'] = eya_df['Gross_10 year'] * (1 - eya_df['Loss_Availability']/100) * \\\n",
    "                                                    (1 - eya_df['Loss_Curtailment']/100) * \\\n",
    "                                                    (1 - eya_df['Loss_Electrical']/100) * \\\n",
    "                                                    (1 - eya_df['Loss_Environmental']/100) * \\\n",
    "                                                    (1 - eya_df['Loss_Turbine']/100) * \\\n",
    "                                                    (1 - eya_df['Loss_Wake Effect']/100)"
   ]
  },
  {
   "cell_type": "code",
   "execution_count": null,
   "metadata": {},
   "outputs": [],
   "source": [
    "oa_df = [] # AEP (GWh/yr), availability loss (fraction), electrical loss (fraction), turbine ideal energy (GWh/yr)"
   ]
  }
 ],
 "metadata": {
  "kernelspec": {
   "display_name": "Python 3",
   "language": "python",
   "name": "python3"
  },
  "language_info": {
   "codemirror_mode": {
    "name": "ipython",
    "version": 3
   },
   "file_extension": ".py",
   "mimetype": "text/x-python",
   "name": "python",
   "nbconvert_exporter": "python",
   "pygments_lexer": "ipython3",
   "version": "3.7.3"
  }
 },
 "nbformat": 4,
 "nbformat_minor": 2
}
